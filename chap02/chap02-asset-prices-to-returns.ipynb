{
 "cells": [
  {
   "cell_type": "markdown",
   "id": "f8401fd0-8654-4ce2-8911-35043c8b828b",
   "metadata": {},
   "source": [
    "# Introdução"
   ]
  },
  {
   "cell_type": "markdown",
   "id": "1da5125d-405c-4d55-882a-41b78815cf57",
   "metadata": {},
   "source": [
    "## Três paradigmas para análise de portifólio com R"
   ]
  },
  {
   "cell_type": "markdown",
   "id": "ba18ae5a-1150-49e6-855d-1b568b99be14",
   "metadata": {},
   "source": [
    "* *xts*\n",
    "    - quantmod\n",
    "    - PerformanceAnalytics\n",
    "* *tidyverse* \n",
    "* *tidyquant*"
   ]
  },
  {
   "cell_type": "code",
   "execution_count": 38,
   "id": "d0b50d72-2b17-4485-af78-c50fba12789f",
   "metadata": {},
   "outputs": [
    {
     "name": "stderr",
     "output_type": "stream",
     "text": [
      "Warning message:\n",
      "“package ‘timetk’ was built under R version 3.6.3”"
     ]
    },
    {
     "ename": "ERROR",
     "evalue": "Error: package or namespace load failed for ‘timetk’:\n object 'required_pkgs' not found whilst loading namespace 'timetk'\n",
     "output_type": "error",
     "traceback": [
      "Error: package or namespace load failed for ‘timetk’:\n object 'required_pkgs' not found whilst loading namespace 'timetk'\nTraceback:\n",
      "1. library(timetk)",
      "2. tryCatch({\n .     attr(package, \"LibPath\") <- which.lib.loc\n .     ns <- loadNamespace(package, lib.loc)\n .     env <- attachNamespace(ns, pos = pos, deps, exclude, include.only)\n . }, error = function(e) {\n .     P <- if (!is.null(cc <- conditionCall(e))) \n .         paste(\" in\", deparse(cc)[1L])\n .     else \"\"\n .     msg <- gettextf(\"package or namespace load failed for %s%s:\\n %s\", \n .         sQuote(package), P, conditionMessage(e))\n .     if (logical.return) \n .         message(paste(\"Error:\", msg), domain = NA)\n .     else stop(msg, call. = FALSE, domain = NA)\n . })",
      "3. tryCatchList(expr, classes, parentenv, handlers)",
      "4. tryCatchOne(expr, names, parentenv, handlers[[1L]])",
      "5. value[[3L]](cond)",
      "6. stop(msg, call. = FALSE, domain = NA)"
     ]
    }
   ],
   "source": [
    "library(timetk)"
   ]
  },
  {
   "cell_type": "code",
   "execution_count": 21,
   "id": "80869d0c-5b52-41f2-8d6e-cf5b0fb78e84",
   "metadata": {},
   "outputs": [
    {
     "name": "stderr",
     "output_type": "stream",
     "text": [
      "Warning message:\n",
      "“package ‘timetk’ was built under R version 3.6.3”"
     ]
    },
    {
     "ename": "ERROR",
     "evalue": "Error: package or namespace load failed for ‘timetk’:\n object 'required_pkgs' not found whilst loading namespace 'timetk'\n",
     "output_type": "error",
     "traceback": [
      "Error: package or namespace load failed for ‘timetk’:\n object 'required_pkgs' not found whilst loading namespace 'timetk'\nTraceback:\n",
      "1. library(timetk)",
      "2. tryCatch({\n .     attr(package, \"LibPath\") <- which.lib.loc\n .     ns <- loadNamespace(package, lib.loc)\n .     env <- attachNamespace(ns, pos = pos, deps, exclude, include.only)\n . }, error = function(e) {\n .     P <- if (!is.null(cc <- conditionCall(e))) \n .         paste(\" in\", deparse(cc)[1L])\n .     else \"\"\n .     msg <- gettextf(\"package or namespace load failed for %s%s:\\n %s\", \n .         sQuote(package), P, conditionMessage(e))\n .     if (logical.return) \n .         message(paste(\"Error:\", msg), domain = NA)\n .     else stop(msg, call. = FALSE, domain = NA)\n . })",
      "3. tryCatchList(expr, classes, parentenv, handlers)",
      "4. tryCatchOne(expr, names, parentenv, handlers[[1L]])",
      "5. value[[3L]](cond)",
      "6. stop(msg, call. = FALSE, domain = NA)"
     ]
    }
   ],
   "source": [
    "# Pacotes importados\n",
    "library(tidyverse)\n",
    "library(lubridate)\n",
    "library(readxl)\n",
    "library(highcharter)\n",
    "library(tidyquant)\n",
    "library(timetk)\n",
    "library(tibbletime)\n",
    "library(quantmod)\n",
    "library(PerformanceAnalytics)\n",
    "library(scales)"
   ]
  },
  {
   "cell_type": "markdown",
   "id": "4478fc18-05cd-439e-b94f-21f16d8a34e5",
   "metadata": {},
   "source": [
    "A função `getSymbols` pertence ao pacote `quantmod` e retorna um objeto com os seguintes dados referentes ao ativo representado por um dado *ticker*:\n",
    "\n",
    "* preço de abertura\n",
    "* preço de fechamento\n",
    "* preço ajustado, \n",
    "* máximo diária,\n",
    "* mínimo diário e\n",
    "* volume."
   ]
  },
  {
   "cell_type": "code",
   "execution_count": 26,
   "id": "5d748d8f-f142-4fc5-9cdf-9a8421d22e82",
   "metadata": {},
   "outputs": [],
   "source": [
    "# Vetor contendo os tickers dos ativos a serem analisados\n",
    "symbols <- c(\"SPY\", \"EFA\", \"IJS\", \"EEM\", \"AGG\")\n",
    "# Downloa dos dados\n",
    "prices <- getSymbols(symbols,\n",
    "                     src=\"yahoo\",\n",
    "                     from=\"2012-12-31\",\n",
    "                     to=\"2017-12-31\",\n",
    "                     #auto.assign = TRUE,\n",
    "                     warnings = FALSE) %>%\n",
    "  map(~Ad(get(.))) %>%\n",
    "  reduce(merge) %>%\n",
    "  `colnames<-`(symbols)"
   ]
  },
  {
   "cell_type": "markdown",
   "id": "bae855cb-b356-4c20-a625-8f6c526eb989",
   "metadata": {},
   "source": [
    "Após baixar os dados de cada ativo, aplicamos `Ad(get(.))` para nos restringirmos apenas ao preço ajustado de cada ativo. As colunas resultantes são unidas por meio do comando `reduce(merge)`. Na célula seguinte, são mostradas as 3 primeiras linhas do resultado obtido."
   ]
  },
  {
   "cell_type": "code",
   "execution_count": 27,
   "id": "27a4c558-6d9d-4ba3-971e-dd5a1c48d924",
   "metadata": {},
   "outputs": [
    {
     "data": {
      "text/plain": [
       "                SPY      EFA      IJS      EEM      AGG\n",
       "2012-12-31 120.1947 43.71408 35.37211 36.64785 89.67650\n",
       "2013-01-02 123.2754 44.39063 36.34266 37.36677 89.57156\n",
       "2013-01-03 122.9968 43.96011 36.29456 37.10234 89.34555"
      ]
     },
     "metadata": {},
     "output_type": "display_data"
    }
   ],
   "source": [
    "head(prices,3)"
   ]
  },
  {
   "cell_type": "markdown",
   "id": "a94dbb7c-59df-4038-a098-dbb63b29ab14",
   "metadata": {},
   "source": [
    "## Convertendo de preços diários para Retornos Mensais no paradigma `xts`"
   ]
  },
  {
   "cell_type": "markdown",
   "id": "56b3a1c2-29af-4b49-9d4f-56ae4de33621",
   "metadata": {},
   "source": [
    "A função `to.montly` do pacote `quantmod`  converte os preços diários para preços mensais. Note-se o parâmetro `indexAt=\"lastof\"` que toma os preços no último dia de cada mês (caso fosse utilizado o valor `\"firstof\"` para esse parâmetro, os preços seriam tomados no primeiro dia do mês). "
   ]
  },
  {
   "cell_type": "code",
   "execution_count": 30,
   "id": "cc7ce4a8-37ee-499a-b482-daaae0a22cc0",
   "metadata": {},
   "outputs": [],
   "source": [
    "prices_monthly <- to.monthly(prices,\n",
    "                             indexAt = 'lastof',\n",
    "                             OHLC = FALSE)"
   ]
  },
  {
   "cell_type": "code",
   "execution_count": 18,
   "id": "8a418e8d-7592-40b6-8ea1-ffcb8eacd799",
   "metadata": {},
   "outputs": [
    {
     "data": {
      "text/plain": [
       "                SPY      EFA      IJS      EEM      AGG\n",
       "2012-12-31 120.1948 43.71409 35.37212 36.64785 89.67657\n",
       "2013-01-31 126.3476 45.34393 37.26510 36.54043 89.11945\n",
       "2013-02-28 127.9596 44.75966 37.87278 35.70583 89.64603"
      ]
     },
     "metadata": {},
     "output_type": "display_data"
    }
   ],
   "source": [
    "head(prices_monthly,3)"
   ]
  },
  {
   "cell_type": "markdown",
   "id": "97600eaf-c5a8-4dc2-8003-7c00ce447c6b",
   "metadata": {},
   "source": [
    "Finalmente, a função `Return.calculate` calcula o retorno do ativo. Como o parâmetro `method` foi utilizado com valor \"log\", temos o retorno logarítmo ($t_t$):\n",
    "\n",
    "$$r_t = \\log{\\left(\\dfrac{P_{t+1}}{P_t}\\right)} = \\log{(P_{t+1})} - \\log{(P_t)}$$\n",
    "em que $P_t$ é o valor do ativo no tempo $t$."
   ]
  },
  {
   "cell_type": "code",
   "execution_count": 19,
   "id": "8300c2f6-4ef3-4b4a-948e-93749b835740",
   "metadata": {},
   "outputs": [],
   "source": [
    "asset_returns_xts <- Return.calculate(prices_monthly,\n",
    "                                     method = 'log') %>%\n",
    "na.omit()"
   ]
  },
  {
   "cell_type": "code",
   "execution_count": 20,
   "id": "942873d6-fbd4-43da-ac9f-0d62e36ec782",
   "metadata": {},
   "outputs": [
    {
     "data": {
      "text/plain": [
       "                  SPY         EFA        IJS          EEM           AGG\n",
       "2013-01-31 0.04992310  0.03660596 0.05213315 -0.002935499 -0.0062319483\n",
       "2013-02-28 0.01267764 -0.01296912 0.01617534 -0.023105309  0.0058913220\n",
       "2013-03-31 0.03726845  0.01296912 0.04025793 -0.010234706  0.0009853806"
      ]
     },
     "metadata": {},
     "output_type": "display_data"
    }
   ],
   "source": [
    "head(asset_returns_xts,3)"
   ]
  },
  {
   "cell_type": "markdown",
   "id": "2699556b-4a02-403a-93de-ef97db37de5b",
   "metadata": {},
   "source": [
    "## Convertendo preços diários para Retornos Mensais sob o paradigma `tityverse`"
   ]
  },
  {
   "cell_type": "code",
   "execution_count": 35,
   "id": "d93a70d3-c799-48bb-9e08-8a75d4e770db",
   "metadata": {},
   "outputs": [],
   "source": [
    "asset_returns_dplyr_byhand <- prices %>% \n",
    "    to.monthly(indexAt = \"lastof\", OHLC = FALSE) %>%\n",
    "    # converte o index para uma data\n",
    "    data.frame(date = index(.)) %>%\n",
    "    # remove o index por que ele foi convertido para nome de linhas\n",
    "    remove_rownames() %>%\n",
    "    gather(asset, prices, -date) %>%\n",
    "    group_by(asset) %>%\n",
    "    mutate(returns = (log(prices) - log(lag(prices)))) %>%\n",
    "    select(-prices) %>%\n",
    "    spread(asset, returns) %>%\n",
    "    select(date, symbols) %>%\n",
    "    na.omit()"
   ]
  },
  {
   "cell_type": "code",
   "execution_count": 36,
   "id": "9d2aa195-e32f-4b60-bc49-d29dfaa48820",
   "metadata": {},
   "outputs": [
    {
     "data": {
      "text/html": [
       "<table>\n",
       "<thead><tr><th scope=col>date</th><th scope=col>SPY</th><th scope=col>EFA</th><th scope=col>IJS</th><th scope=col>EEM</th><th scope=col>AGG</th></tr></thead>\n",
       "<tbody>\n",
       "\t<tr><td>2013-01-31   </td><td>0.04992294   </td><td> 0.03660620  </td><td>0.05213401   </td><td>-0.002935499 </td><td>-0.0062309101</td></tr>\n",
       "\t<tr><td>2013-02-28   </td><td>0.01267859   </td><td>-0.01296921  </td><td>0.01617464   </td><td>-0.023104973 </td><td> 0.0058914883</td></tr>\n",
       "\t<tr><td>2013-03-31   </td><td>0.03726792   </td><td> 0.01296921  </td><td>0.04025853   </td><td>-0.010235240 </td><td> 0.0009845222</td></tr>\n",
       "</tbody>\n",
       "</table>\n"
      ],
      "text/latex": [
       "\\begin{tabular}{r|llllll}\n",
       " date & SPY & EFA & IJS & EEM & AGG\\\\\n",
       "\\hline\n",
       "\t 2013-01-31    & 0.04992294    &  0.03660620   & 0.05213401    & -0.002935499  & -0.0062309101\\\\\n",
       "\t 2013-02-28    & 0.01267859    & -0.01296921   & 0.01617464    & -0.023104973  &  0.0058914883\\\\\n",
       "\t 2013-03-31    & 0.03726792    &  0.01296921   & 0.04025853    & -0.010235240  &  0.0009845222\\\\\n",
       "\\end{tabular}\n"
      ],
      "text/markdown": [
       "\n",
       "| date | SPY | EFA | IJS | EEM | AGG |\n",
       "|---|---|---|---|---|---|\n",
       "| 2013-01-31    | 0.04992294    |  0.03660620   | 0.05213401    | -0.002935499  | -0.0062309101 |\n",
       "| 2013-02-28    | 0.01267859    | -0.01296921   | 0.01617464    | -0.023104973  |  0.0058914883 |\n",
       "| 2013-03-31    | 0.03726792    |  0.01296921   | 0.04025853    | -0.010235240  |  0.0009845222 |\n",
       "\n"
      ],
      "text/plain": [
       "  date       SPY        EFA         IJS        EEM          AGG          \n",
       "1 2013-01-31 0.04992294  0.03660620 0.05213401 -0.002935499 -0.0062309101\n",
       "2 2013-02-28 0.01267859 -0.01296921 0.01617464 -0.023104973  0.0058914883\n",
       "3 2013-03-31 0.03726792  0.01296921 0.04025853 -0.010235240  0.0009845222"
      ]
     },
     "metadata": {},
     "output_type": "display_data"
    }
   ],
   "source": [
    "head(asset_returns_dplyr_byhand, 3)"
   ]
  },
  {
   "cell_type": "markdown",
   "id": "b18b1a42-da84-46e7-b171-3af28f6274c8",
   "metadata": {},
   "source": [
    "## Convertendo preços diários para Retornos Mensais sob o paradigma `tidyquant`"
   ]
  },
  {
   "cell_type": "code",
   "execution_count": 37,
   "id": "c8cebd79-69e1-4556-9447-9500b0081f07",
   "metadata": {},
   "outputs": [
    {
     "ename": "ERROR",
     "evalue": "Error in tk_tbl(., preserve_index = TRUE, rename_index = \"date\"): could not find function \"tk_tbl\"\n",
     "output_type": "error",
     "traceback": [
      "Error in tk_tbl(., preserve_index = TRUE, rename_index = \"date\"): could not find function \"tk_tbl\"\nTraceback:\n",
      "1. prices %>% tk_tbl(preserve_index = TRUE, rename_index = \"date\") %>% \n .     gather(asset, prices, -date) %>% group_by(asset) %>% tq_transmute(mutate_fun = periodReturn, \n .     period = \"monthly\", type = \"log\") %>% spread(asset, montly.returns) %>% \n .     select(date, symbols) %>% slice(-1)",
      "2. slice(., -1)",
      "3. select(., date, symbols)",
      "4. spread(., asset, montly.returns)",
      "5. tq_transmute(., mutate_fun = periodReturn, period = \"monthly\", \n .     type = \"log\")",
      "6. tq_transmute_(data = data, select = lazyeval::expr_text(select), \n .     mutate_fun = lazyeval::expr_text(mutate_fun), col_rename = col_rename, \n .     ... = ...)",
      "7. group_by(., asset)",
      "8. gather(., asset, prices, -date)"
     ]
    }
   ],
   "source": [
    "asset_returns_tq_builtin <- prices %>%\n",
    "    tk_tbl(preserve_index=TRUE,\n",
    "           rename_index=\"date\") %>%\n",
    "    gather(asset, prices, -date) %>%\n",
    "    group_by(asset) %>%\n",
    "    tq_transmute(mutate_fun=periodReturn,\n",
    "                 period=\"monthly\",\n",
    "                 type=\"log\") %>%\n",
    "    spread(asset, montly.returns) %>%\n",
    "    select(date, symbols) %>%\n",
    "    slice(-1)"
   ]
  },
  {
   "cell_type": "code",
   "execution_count": null,
   "id": "2f1e6483-f512-42aa-afb0-6b806c8a173d",
   "metadata": {},
   "outputs": [],
   "source": []
  }
 ],
 "metadata": {
  "kernelspec": {
   "display_name": "R",
   "language": "R",
   "name": "ir"
  },
  "language_info": {
   "codemirror_mode": "r",
   "file_extension": ".r",
   "mimetype": "text/x-r-source",
   "name": "R",
   "pygments_lexer": "r",
   "version": "3.6.1"
  }
 },
 "nbformat": 4,
 "nbformat_minor": 5
}
